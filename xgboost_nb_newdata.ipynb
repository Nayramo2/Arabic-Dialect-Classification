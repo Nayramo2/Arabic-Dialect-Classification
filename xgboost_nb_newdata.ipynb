{
  "nbformat": 4,
  "nbformat_minor": 0,
  "metadata": {
    "colab": {
      "provenance": [],
      "gpuType": "T4"
    },
    "kernelspec": {
      "name": "python3",
      "display_name": "Python 3"
    },
    "language_info": {
      "name": "python"
    },
    "accelerator": "GPU"
  },
  "cells": [
    {
      "cell_type": "code",
      "source": [
        "import pandas as pd\n",
        "import matplotlib.pyplot as plt\n",
        "from sklearn.feature_extraction.text import TfidfVectorizer\n",
        "from sklearn.model_selection import GridSearchCV, train_test_split\n",
        "from sklearn.svm import SVC\n",
        "from sklearn.metrics import accuracy_score, classification_report, confusion_matrix , f1_score\n",
        "from sklearn.pipeline import Pipeline\n",
        "from sklearn.feature_extraction.text import TfidfTransformer\n",
        "from sklearn.feature_extraction.text import CountVectorizer\n",
        "from xgboost import XGBClassifier\n",
        "import re\n",
        "import string\n",
        "import nltk\n",
        "from nltk.corpus import stopwords\n",
        "import gensim.downloader as api\n",
        "from sklearn.preprocessing import LabelEncoder\n",
        "import xgboost as xgb\n",
        "from sklearn.feature_extraction.text import TfidfVectorizer\n",
        "from sklearn.naive_bayes import MultinomialNB\n",
        "from sklearn.svm import SVC\n",
        "import scipy.stats as stats\n",
        "import numpy as np"
      ],
      "metadata": {
        "id": "6bId2xvibTk2"
      },
      "execution_count": 19,
      "outputs": []
    },
    {
      "cell_type": "code",
      "source": [
        " nltk.download('stopwords')"
      ],
      "metadata": {
        "colab": {
          "base_uri": "https://localhost:8080/"
        },
        "id": "NfLmV4tfHDBe",
        "outputId": "2e410f60-502f-4106-9100-18f3c7513aa5"
      },
      "execution_count": 20,
      "outputs": [
        {
          "output_type": "stream",
          "name": "stderr",
          "text": [
            "[nltk_data] Downloading package stopwords to /root/nltk_data...\n",
            "[nltk_data]   Package stopwords is already up-to-date!\n"
          ]
        },
        {
          "output_type": "execute_result",
          "data": {
            "text/plain": [
              "True"
            ]
          },
          "metadata": {},
          "execution_count": 20
        }
      ]
    },
    {
      "cell_type": "markdown",
      "source": [
        "# Loading data"
      ],
      "metadata": {
        "id": "6LDHYnSGa-Y1"
      }
    },
    {
      "cell_type": "code",
      "execution_count": 21,
      "metadata": {
        "id": "5OBG3ZmCXReA"
      },
      "outputs": [],
      "source": [
        "train_data = pd.read_csv('/content/new data/ML_cleaned_train.csv')\n",
        "test_data = pd.read_csv('/content/new data/ML_cleaned_test.csv')\n"
      ]
    },
    {
      "cell_type": "markdown",
      "source": [
        "# Dtat Validation"
      ],
      "metadata": {
        "id": "IwvbdecIeg8t"
      }
    },
    {
      "cell_type": "code",
      "source": [
        "train_data.isna().sum()"
      ],
      "metadata": {
        "colab": {
          "base_uri": "https://localhost:8080/"
        },
        "id": "R4d-qGRFb3Z5",
        "outputId": "7824a70c-97c0-43ef-c155-df33d6a318a6"
      },
      "execution_count": 22,
      "outputs": [
        {
          "output_type": "execute_result",
          "data": {
            "text/plain": [
              "Text       1\n",
              "Dialect    0\n",
              "dtype: int64"
            ]
          },
          "metadata": {},
          "execution_count": 22
        }
      ]
    },
    {
      "cell_type": "code",
      "source": [
        "train_data.dropna(axis=0 , inplace=True)"
      ],
      "metadata": {
        "id": "JbQyV4H2b92h"
      },
      "execution_count": 23,
      "outputs": []
    },
    {
      "cell_type": "code",
      "source": [
        "test_data.dropna(axis=0 , inplace=True)"
      ],
      "metadata": {
        "id": "9fgD9612cbke"
      },
      "execution_count": 24,
      "outputs": []
    },
    {
      "cell_type": "code",
      "source": [
        "def clean_text(text):\n",
        "    text = re.sub(r'\\d+', '', text)\n",
        "    text = re.sub(r'[^ا-ي\\s]', '', text, re.I|re.A)\n",
        "    text = text.strip()\n",
        "    stop_words = set(stopwords.words('arabic'))\n",
        "    text = ' '.join([word for word in text.split() if word not in stop_words])\n",
        "    return text"
      ],
      "metadata": {
        "id": "-kgG1afPGZm0"
      },
      "execution_count": 7,
      "outputs": []
    },
    {
      "cell_type": "code",
      "source": [
        "train_data['cleaned_text'] = train_data['Text'].apply(clean_text)\n",
        "test_data['cleaned_text'] = test_data['Text'].apply(clean_text)\n",
        "train_data[['Text', 'cleaned_text']].head(40)"
      ],
      "metadata": {
        "colab": {
          "base_uri": "https://localhost:8080/",
          "height": 1000
        },
        "collapsed": true,
        "id": "ZqdxZx_sGZwS",
        "outputId": "f2d75057-3eb9-4f02-b07f-7619d92d378b"
      },
      "execution_count": 16,
      "outputs": [
        {
          "output_type": "execute_result",
          "data": {
            "text/plain": [
              "                                                 Text  \\\n",
              "0                  واله بالعكس جو سمح صقع سم لين خلاص   \n",
              "1                                ضربتها بالقلايه بكري   \n",
              "2       يا استاذي الفاضل احنا عاصرنا ده محدش حكاهولنا   \n",
              "3   هوينه هانيبال ولد العقيد متزوج لبنانيه عارضه ا...   \n",
              "4                      السعاده حضرتك المنشن المحترمين   \n",
              "5                 واله فاصوليا بالكرشه الا باهيه الحق   \n",
              "6                 رمضان قرب وبدو ايقصو الضي كا العاده   \n",
              "7   الطلاب لوزاره التعليم:اذا مكنشي النهارده يبقي ...   \n",
              "8            السنه لعبش كويس حتي انا ضد انه يطلع لمسه   \n",
              "9   يا انت اكل بلوك يا انا اكيد يلي اكل بلوك مين هيدا   \n",
              "10                                    نطيح بلغلط نرقد   \n",
              "11              لوبنت يومها مش هيحصل كداالبيض ليه عمر   \n",
              "12  ياخ واله اصابه كولمان دي مشكله اولا لينا الفان...   \n",
              "13  صوتي نيابه الشهيد الحي الي الجبهه عم يجاهد هلق...   \n",
              "14  ياتري ليه \"المهيب الركن\" اتخلص \"السفاح\" دلوقتي...   \n",
              "15  احنا وصلنا لوضع عايز خدمه ادفع تمنها مش معاك ا...   \n",
              "16  انا عارفه هلبه هكي الدعم المعنوي واله ونرجع ون...   \n",
              "17  هوا الحريه هيدا حكي اجو الدرك وبلشت الدوله تحا...   \n",
              "18           فاضي عم بغني بالخميس .عنا رءيس او كراكوز   \n",
              "19  انا اهلاويه فكره مش متعصبه ومش بكره الزمالك بح...   \n",
              "20       تدفع كام وتاخد معايا اوتجراف انا بقيت مشهوره   \n",
              "21  مستغرب اشخاص عايشين نص عمرهم افغانستان يوم طلع...   \n",
              "22                       فكره اسمه الاهلي وانتم الاهل   \n",
              "23  مقتنع بالبيو بتاعك الي مكتوبه يا اخ صلاح تعليق...   \n",
              "24             لهون نحنا صدقنا انو الشيخ نقطهن بزياره   \n",
              "25                  احلي الطبيعه ماف حلوه ياخ شاء اله   \n",
              "26                     اله يبارك فيكي يا صاحبي عقبالك   \n",
              "27  : . . موافقين ؟ : ا ينفعش انت عريس ودي العمر ....   \n",
              "28                                  مواسم بيكون موجود   \n",
              "29                        نلقانا مو واضح يابو الشهيبي   \n",
              "30                           مش حيتم طول مافي اعلانات   \n",
              "31                     ihabamir الي معندوش الي معندوش   \n",
              "32  الحضن ده جميل فشخ ، تلاقوا فرصه انكوا تحضنوا ي...   \n",
              "33  ادينا فرصه ركزنا شويه كلمات اغنيه ( الحق ) بتا...   \n",
              "34                       اكويس وفرتوا تداكر او حجوزات   \n",
              "35                    انت زيد اضحك اني بروحي نضحك توا   \n",
              "36                              مبروكاغلاق قناه الشرق   \n",
              "37                      واخيرا لقينا صديق كريم الهاني   \n",
              "38  الي قصفت المطار العسكري طياره ليبيه ولعلم الي ...   \n",
              "39             مجناهم كبار وصغار ينعلميتينك دانتي جده   \n",
              "\n",
              "                                         cleaned_text  \n",
              "0                  واله بالعكس جو سمح صقع سم لين خلاص  \n",
              "1                                ضربتها بالقلايه بكري  \n",
              "2          استاذي الفاضل احنا عاصرنا ده محدش حكاهولنا  \n",
              "3   هوينه هانيبال ولد العقيد متزوج لبنانيه عارضه ا...  \n",
              "4                      السعاده حضرتك المنشن المحترمين  \n",
              "5                 واله فاصوليا بالكرشه الا باهيه الحق  \n",
              "6                 رمضان قرب وبدو ايقصو الضي كا العاده  \n",
              "7   الطلاب لوزاره التعليماذا مكنشي النهارده يبقي ب...  \n",
              "8            السنه لعبش كويس حتي انا ضد انه يطلع لمسه  \n",
              "9         انت اكل بلوك انا اكيد يلي اكل بلوك مين هيدا  \n",
              "10                                    نطيح بلغلط نرقد  \n",
              "11              لوبنت يومها مش هيحصل كداالبيض ليه عمر  \n",
              "12  ياخ واله اصابه كولمان دي مشكله اولا لينا الفان...  \n",
              "13  صوتي نيابه الشهيد الحي الي الجبهه عم يجاهد هلق...  \n",
              "14  ياتري ليه المهيب الركن اتخلص السفاح دلوقتيكله ...  \n",
              "15  احنا وصلنا لوضع عايز خدمه ادفع تمنها مش معاك ا...  \n",
              "16  انا عارفه هلبه هكي الدعم المعنوي واله ونرجع ون...  \n",
              "17  هوا الحريه هيدا حكي اجو الدرك وبلشت الدوله تحا...  \n",
              "18             فاضي عم بغني بالخميس عنا ريس او كراكوز  \n",
              "19  انا اهلاويه فكره مش متعصبه ومش بكره الزمالك بح...  \n",
              "20       تدفع كام وتاخد معايا اوتجراف انا بقيت مشهوره  \n",
              "21  مستغرب اشخاص عايشين نص عمرهم افغانستان يوم طلع...  \n",
              "22                       فكره اسمه الاهلي وانتم الاهل  \n",
              "23  مقتنع بالبيو بتاعك الي مكتوبه اخ صلاح تعليقك ه...  \n",
              "24             لهون نحنا صدقنا انو الشيخ نقطهن بزياره  \n",
              "25                   احلي الطبيعه ماف حلوه ياخ شا اله  \n",
              "26                        اله يبارك فيكي صاحبي عقبالك  \n",
              "27       موافقين ينفعش انت عريس ودي العمر انا مستنيكم  \n",
              "28                                  مواسم بيكون موجود  \n",
              "29                        نلقانا مو واضح يابو الشهيبي  \n",
              "30                           مش حيتم طول مافي اعلانات  \n",
              "31                              الي معندوش الي معندوش  \n",
              "32  الحضن ده جميل فشخ تلاقوا فرصه انكوا تحضنوا اخو...  \n",
              "33  ادينا فرصه ركزنا شويه كلمات اغنيه الحق بتاعه ح...  \n",
              "34                       اكويس وفرتوا تداكر او حجوزات  \n",
              "35                    انت زيد اضحك اني بروحي نضحك توا  \n",
              "36                              مبروكاغلاق قناه الشرق  \n",
              "37                      واخيرا لقينا صديق كريم الهاني  \n",
              "38  الي قصفت المطار العسكري طياره ليبيه ولعلم الي ...  \n",
              "39             مجناهم كبار وصغار ينعلميتينك دانتي جده  "
            ],
            "text/html": [
              "\n",
              "  <div id=\"df-f6186117-ef69-422e-a354-69062c9f7eec\" class=\"colab-df-container\">\n",
              "    <div>\n",
              "<style scoped>\n",
              "    .dataframe tbody tr th:only-of-type {\n",
              "        vertical-align: middle;\n",
              "    }\n",
              "\n",
              "    .dataframe tbody tr th {\n",
              "        vertical-align: top;\n",
              "    }\n",
              "\n",
              "    .dataframe thead th {\n",
              "        text-align: right;\n",
              "    }\n",
              "</style>\n",
              "<table border=\"1\" class=\"dataframe\">\n",
              "  <thead>\n",
              "    <tr style=\"text-align: right;\">\n",
              "      <th></th>\n",
              "      <th>Text</th>\n",
              "      <th>cleaned_text</th>\n",
              "    </tr>\n",
              "  </thead>\n",
              "  <tbody>\n",
              "    <tr>\n",
              "      <th>0</th>\n",
              "      <td>واله بالعكس جو سمح صقع سم لين خلاص</td>\n",
              "      <td>واله بالعكس جو سمح صقع سم لين خلاص</td>\n",
              "    </tr>\n",
              "    <tr>\n",
              "      <th>1</th>\n",
              "      <td>ضربتها بالقلايه بكري</td>\n",
              "      <td>ضربتها بالقلايه بكري</td>\n",
              "    </tr>\n",
              "    <tr>\n",
              "      <th>2</th>\n",
              "      <td>يا استاذي الفاضل احنا عاصرنا ده محدش حكاهولنا</td>\n",
              "      <td>استاذي الفاضل احنا عاصرنا ده محدش حكاهولنا</td>\n",
              "    </tr>\n",
              "    <tr>\n",
              "      <th>3</th>\n",
              "      <td>هوينه هانيبال ولد العقيد متزوج لبنانيه عارضه ا...</td>\n",
              "      <td>هوينه هانيبال ولد العقيد متزوج لبنانيه عارضه ا...</td>\n",
              "    </tr>\n",
              "    <tr>\n",
              "      <th>4</th>\n",
              "      <td>السعاده حضرتك المنشن المحترمين</td>\n",
              "      <td>السعاده حضرتك المنشن المحترمين</td>\n",
              "    </tr>\n",
              "    <tr>\n",
              "      <th>5</th>\n",
              "      <td>واله فاصوليا بالكرشه الا باهيه الحق</td>\n",
              "      <td>واله فاصوليا بالكرشه الا باهيه الحق</td>\n",
              "    </tr>\n",
              "    <tr>\n",
              "      <th>6</th>\n",
              "      <td>رمضان قرب وبدو ايقصو الضي كا العاده</td>\n",
              "      <td>رمضان قرب وبدو ايقصو الضي كا العاده</td>\n",
              "    </tr>\n",
              "    <tr>\n",
              "      <th>7</th>\n",
              "      <td>الطلاب لوزاره التعليم:اذا مكنشي النهارده يبقي ...</td>\n",
              "      <td>الطلاب لوزاره التعليماذا مكنشي النهارده يبقي ب...</td>\n",
              "    </tr>\n",
              "    <tr>\n",
              "      <th>8</th>\n",
              "      <td>السنه لعبش كويس حتي انا ضد انه يطلع لمسه</td>\n",
              "      <td>السنه لعبش كويس حتي انا ضد انه يطلع لمسه</td>\n",
              "    </tr>\n",
              "    <tr>\n",
              "      <th>9</th>\n",
              "      <td>يا انت اكل بلوك يا انا اكيد يلي اكل بلوك مين هيدا</td>\n",
              "      <td>انت اكل بلوك انا اكيد يلي اكل بلوك مين هيدا</td>\n",
              "    </tr>\n",
              "    <tr>\n",
              "      <th>10</th>\n",
              "      <td>نطيح بلغلط نرقد</td>\n",
              "      <td>نطيح بلغلط نرقد</td>\n",
              "    </tr>\n",
              "    <tr>\n",
              "      <th>11</th>\n",
              "      <td>لوبنت يومها مش هيحصل كداالبيض ليه عمر</td>\n",
              "      <td>لوبنت يومها مش هيحصل كداالبيض ليه عمر</td>\n",
              "    </tr>\n",
              "    <tr>\n",
              "      <th>12</th>\n",
              "      <td>ياخ واله اصابه كولمان دي مشكله اولا لينا الفان...</td>\n",
              "      <td>ياخ واله اصابه كولمان دي مشكله اولا لينا الفان...</td>\n",
              "    </tr>\n",
              "    <tr>\n",
              "      <th>13</th>\n",
              "      <td>صوتي نيابه الشهيد الحي الي الجبهه عم يجاهد هلق...</td>\n",
              "      <td>صوتي نيابه الشهيد الحي الي الجبهه عم يجاهد هلق...</td>\n",
              "    </tr>\n",
              "    <tr>\n",
              "      <th>14</th>\n",
              "      <td>ياتري ليه \"المهيب الركن\" اتخلص \"السفاح\" دلوقتي...</td>\n",
              "      <td>ياتري ليه المهيب الركن اتخلص السفاح دلوقتيكله ...</td>\n",
              "    </tr>\n",
              "    <tr>\n",
              "      <th>15</th>\n",
              "      <td>احنا وصلنا لوضع عايز خدمه ادفع تمنها مش معاك ا...</td>\n",
              "      <td>احنا وصلنا لوضع عايز خدمه ادفع تمنها مش معاك ا...</td>\n",
              "    </tr>\n",
              "    <tr>\n",
              "      <th>16</th>\n",
              "      <td>انا عارفه هلبه هكي الدعم المعنوي واله ونرجع ون...</td>\n",
              "      <td>انا عارفه هلبه هكي الدعم المعنوي واله ونرجع ون...</td>\n",
              "    </tr>\n",
              "    <tr>\n",
              "      <th>17</th>\n",
              "      <td>هوا الحريه هيدا حكي اجو الدرك وبلشت الدوله تحا...</td>\n",
              "      <td>هوا الحريه هيدا حكي اجو الدرك وبلشت الدوله تحا...</td>\n",
              "    </tr>\n",
              "    <tr>\n",
              "      <th>18</th>\n",
              "      <td>فاضي عم بغني بالخميس .عنا رءيس او كراكوز</td>\n",
              "      <td>فاضي عم بغني بالخميس عنا ريس او كراكوز</td>\n",
              "    </tr>\n",
              "    <tr>\n",
              "      <th>19</th>\n",
              "      <td>انا اهلاويه فكره مش متعصبه ومش بكره الزمالك بح...</td>\n",
              "      <td>انا اهلاويه فكره مش متعصبه ومش بكره الزمالك بح...</td>\n",
              "    </tr>\n",
              "    <tr>\n",
              "      <th>20</th>\n",
              "      <td>تدفع كام وتاخد معايا اوتجراف انا بقيت مشهوره</td>\n",
              "      <td>تدفع كام وتاخد معايا اوتجراف انا بقيت مشهوره</td>\n",
              "    </tr>\n",
              "    <tr>\n",
              "      <th>21</th>\n",
              "      <td>مستغرب اشخاص عايشين نص عمرهم افغانستان يوم طلع...</td>\n",
              "      <td>مستغرب اشخاص عايشين نص عمرهم افغانستان يوم طلع...</td>\n",
              "    </tr>\n",
              "    <tr>\n",
              "      <th>22</th>\n",
              "      <td>فكره اسمه الاهلي وانتم الاهل</td>\n",
              "      <td>فكره اسمه الاهلي وانتم الاهل</td>\n",
              "    </tr>\n",
              "    <tr>\n",
              "      <th>23</th>\n",
              "      <td>مقتنع بالبيو بتاعك الي مكتوبه يا اخ صلاح تعليق...</td>\n",
              "      <td>مقتنع بالبيو بتاعك الي مكتوبه اخ صلاح تعليقك ه...</td>\n",
              "    </tr>\n",
              "    <tr>\n",
              "      <th>24</th>\n",
              "      <td>لهون نحنا صدقنا انو الشيخ نقطهن بزياره</td>\n",
              "      <td>لهون نحنا صدقنا انو الشيخ نقطهن بزياره</td>\n",
              "    </tr>\n",
              "    <tr>\n",
              "      <th>25</th>\n",
              "      <td>احلي الطبيعه ماف حلوه ياخ شاء اله</td>\n",
              "      <td>احلي الطبيعه ماف حلوه ياخ شا اله</td>\n",
              "    </tr>\n",
              "    <tr>\n",
              "      <th>26</th>\n",
              "      <td>اله يبارك فيكي يا صاحبي عقبالك</td>\n",
              "      <td>اله يبارك فيكي صاحبي عقبالك</td>\n",
              "    </tr>\n",
              "    <tr>\n",
              "      <th>27</th>\n",
              "      <td>: . . موافقين ؟ : ا ينفعش انت عريس ودي العمر ....</td>\n",
              "      <td>موافقين ينفعش انت عريس ودي العمر انا مستنيكم</td>\n",
              "    </tr>\n",
              "    <tr>\n",
              "      <th>28</th>\n",
              "      <td>مواسم بيكون موجود</td>\n",
              "      <td>مواسم بيكون موجود</td>\n",
              "    </tr>\n",
              "    <tr>\n",
              "      <th>29</th>\n",
              "      <td>نلقانا مو واضح يابو الشهيبي</td>\n",
              "      <td>نلقانا مو واضح يابو الشهيبي</td>\n",
              "    </tr>\n",
              "    <tr>\n",
              "      <th>30</th>\n",
              "      <td>مش حيتم طول مافي اعلانات</td>\n",
              "      <td>مش حيتم طول مافي اعلانات</td>\n",
              "    </tr>\n",
              "    <tr>\n",
              "      <th>31</th>\n",
              "      <td>ihabamir الي معندوش الي معندوش</td>\n",
              "      <td>الي معندوش الي معندوش</td>\n",
              "    </tr>\n",
              "    <tr>\n",
              "      <th>32</th>\n",
              "      <td>الحضن ده جميل فشخ ، تلاقوا فرصه انكوا تحضنوا ي...</td>\n",
              "      <td>الحضن ده جميل فشخ تلاقوا فرصه انكوا تحضنوا اخو...</td>\n",
              "    </tr>\n",
              "    <tr>\n",
              "      <th>33</th>\n",
              "      <td>ادينا فرصه ركزنا شويه كلمات اغنيه ( الحق ) بتا...</td>\n",
              "      <td>ادينا فرصه ركزنا شويه كلمات اغنيه الحق بتاعه ح...</td>\n",
              "    </tr>\n",
              "    <tr>\n",
              "      <th>34</th>\n",
              "      <td>اكويس وفرتوا تداكر او حجوزات</td>\n",
              "      <td>اكويس وفرتوا تداكر او حجوزات</td>\n",
              "    </tr>\n",
              "    <tr>\n",
              "      <th>35</th>\n",
              "      <td>انت زيد اضحك اني بروحي نضحك توا</td>\n",
              "      <td>انت زيد اضحك اني بروحي نضحك توا</td>\n",
              "    </tr>\n",
              "    <tr>\n",
              "      <th>36</th>\n",
              "      <td>مبروكاغلاق قناه الشرق</td>\n",
              "      <td>مبروكاغلاق قناه الشرق</td>\n",
              "    </tr>\n",
              "    <tr>\n",
              "      <th>37</th>\n",
              "      <td>واخيرا لقينا صديق كريم الهاني</td>\n",
              "      <td>واخيرا لقينا صديق كريم الهاني</td>\n",
              "    </tr>\n",
              "    <tr>\n",
              "      <th>38</th>\n",
              "      <td>الي قصفت المطار العسكري طياره ليبيه ولعلم الي ...</td>\n",
              "      <td>الي قصفت المطار العسكري طياره ليبيه ولعلم الي ...</td>\n",
              "    </tr>\n",
              "    <tr>\n",
              "      <th>39</th>\n",
              "      <td>مجناهم كبار وصغار ينعلميتينك دانتي جده</td>\n",
              "      <td>مجناهم كبار وصغار ينعلميتينك دانتي جده</td>\n",
              "    </tr>\n",
              "  </tbody>\n",
              "</table>\n",
              "</div>\n",
              "    <div class=\"colab-df-buttons\">\n",
              "\n",
              "  <div class=\"colab-df-container\">\n",
              "    <button class=\"colab-df-convert\" onclick=\"convertToInteractive('df-f6186117-ef69-422e-a354-69062c9f7eec')\"\n",
              "            title=\"Convert this dataframe to an interactive table.\"\n",
              "            style=\"display:none;\">\n",
              "\n",
              "  <svg xmlns=\"http://www.w3.org/2000/svg\" height=\"24px\" viewBox=\"0 -960 960 960\">\n",
              "    <path d=\"M120-120v-720h720v720H120Zm60-500h600v-160H180v160Zm220 220h160v-160H400v160Zm0 220h160v-160H400v160ZM180-400h160v-160H180v160Zm440 0h160v-160H620v160ZM180-180h160v-160H180v160Zm440 0h160v-160H620v160Z\"/>\n",
              "  </svg>\n",
              "    </button>\n",
              "\n",
              "  <style>\n",
              "    .colab-df-container {\n",
              "      display:flex;\n",
              "      gap: 12px;\n",
              "    }\n",
              "\n",
              "    .colab-df-convert {\n",
              "      background-color: #E8F0FE;\n",
              "      border: none;\n",
              "      border-radius: 50%;\n",
              "      cursor: pointer;\n",
              "      display: none;\n",
              "      fill: #1967D2;\n",
              "      height: 32px;\n",
              "      padding: 0 0 0 0;\n",
              "      width: 32px;\n",
              "    }\n",
              "\n",
              "    .colab-df-convert:hover {\n",
              "      background-color: #E2EBFA;\n",
              "      box-shadow: 0px 1px 2px rgba(60, 64, 67, 0.3), 0px 1px 3px 1px rgba(60, 64, 67, 0.15);\n",
              "      fill: #174EA6;\n",
              "    }\n",
              "\n",
              "    .colab-df-buttons div {\n",
              "      margin-bottom: 4px;\n",
              "    }\n",
              "\n",
              "    [theme=dark] .colab-df-convert {\n",
              "      background-color: #3B4455;\n",
              "      fill: #D2E3FC;\n",
              "    }\n",
              "\n",
              "    [theme=dark] .colab-df-convert:hover {\n",
              "      background-color: #434B5C;\n",
              "      box-shadow: 0px 1px 3px 1px rgba(0, 0, 0, 0.15);\n",
              "      filter: drop-shadow(0px 1px 2px rgba(0, 0, 0, 0.3));\n",
              "      fill: #FFFFFF;\n",
              "    }\n",
              "  </style>\n",
              "\n",
              "    <script>\n",
              "      const buttonEl =\n",
              "        document.querySelector('#df-f6186117-ef69-422e-a354-69062c9f7eec button.colab-df-convert');\n",
              "      buttonEl.style.display =\n",
              "        google.colab.kernel.accessAllowed ? 'block' : 'none';\n",
              "\n",
              "      async function convertToInteractive(key) {\n",
              "        const element = document.querySelector('#df-f6186117-ef69-422e-a354-69062c9f7eec');\n",
              "        const dataTable =\n",
              "          await google.colab.kernel.invokeFunction('convertToInteractive',\n",
              "                                                    [key], {});\n",
              "        if (!dataTable) return;\n",
              "\n",
              "        const docLinkHtml = 'Like what you see? Visit the ' +\n",
              "          '<a target=\"_blank\" href=https://colab.research.google.com/notebooks/data_table.ipynb>data table notebook</a>'\n",
              "          + ' to learn more about interactive tables.';\n",
              "        element.innerHTML = '';\n",
              "        dataTable['output_type'] = 'display_data';\n",
              "        await google.colab.output.renderOutput(dataTable, element);\n",
              "        const docLink = document.createElement('div');\n",
              "        docLink.innerHTML = docLinkHtml;\n",
              "        element.appendChild(docLink);\n",
              "      }\n",
              "    </script>\n",
              "  </div>\n",
              "\n",
              "\n",
              "<div id=\"df-bdc5d85c-a79f-4d22-beb3-43e79ca08a02\">\n",
              "  <button class=\"colab-df-quickchart\" onclick=\"quickchart('df-bdc5d85c-a79f-4d22-beb3-43e79ca08a02')\"\n",
              "            title=\"Suggest charts\"\n",
              "            style=\"display:none;\">\n",
              "\n",
              "<svg xmlns=\"http://www.w3.org/2000/svg\" height=\"24px\"viewBox=\"0 0 24 24\"\n",
              "     width=\"24px\">\n",
              "    <g>\n",
              "        <path d=\"M19 3H5c-1.1 0-2 .9-2 2v14c0 1.1.9 2 2 2h14c1.1 0 2-.9 2-2V5c0-1.1-.9-2-2-2zM9 17H7v-7h2v7zm4 0h-2V7h2v10zm4 0h-2v-4h2v4z\"/>\n",
              "    </g>\n",
              "</svg>\n",
              "  </button>\n",
              "\n",
              "<style>\n",
              "  .colab-df-quickchart {\n",
              "      --bg-color: #E8F0FE;\n",
              "      --fill-color: #1967D2;\n",
              "      --hover-bg-color: #E2EBFA;\n",
              "      --hover-fill-color: #174EA6;\n",
              "      --disabled-fill-color: #AAA;\n",
              "      --disabled-bg-color: #DDD;\n",
              "  }\n",
              "\n",
              "  [theme=dark] .colab-df-quickchart {\n",
              "      --bg-color: #3B4455;\n",
              "      --fill-color: #D2E3FC;\n",
              "      --hover-bg-color: #434B5C;\n",
              "      --hover-fill-color: #FFFFFF;\n",
              "      --disabled-bg-color: #3B4455;\n",
              "      --disabled-fill-color: #666;\n",
              "  }\n",
              "\n",
              "  .colab-df-quickchart {\n",
              "    background-color: var(--bg-color);\n",
              "    border: none;\n",
              "    border-radius: 50%;\n",
              "    cursor: pointer;\n",
              "    display: none;\n",
              "    fill: var(--fill-color);\n",
              "    height: 32px;\n",
              "    padding: 0;\n",
              "    width: 32px;\n",
              "  }\n",
              "\n",
              "  .colab-df-quickchart:hover {\n",
              "    background-color: var(--hover-bg-color);\n",
              "    box-shadow: 0 1px 2px rgba(60, 64, 67, 0.3), 0 1px 3px 1px rgba(60, 64, 67, 0.15);\n",
              "    fill: var(--button-hover-fill-color);\n",
              "  }\n",
              "\n",
              "  .colab-df-quickchart-complete:disabled,\n",
              "  .colab-df-quickchart-complete:disabled:hover {\n",
              "    background-color: var(--disabled-bg-color);\n",
              "    fill: var(--disabled-fill-color);\n",
              "    box-shadow: none;\n",
              "  }\n",
              "\n",
              "  .colab-df-spinner {\n",
              "    border: 2px solid var(--fill-color);\n",
              "    border-color: transparent;\n",
              "    border-bottom-color: var(--fill-color);\n",
              "    animation:\n",
              "      spin 1s steps(1) infinite;\n",
              "  }\n",
              "\n",
              "  @keyframes spin {\n",
              "    0% {\n",
              "      border-color: transparent;\n",
              "      border-bottom-color: var(--fill-color);\n",
              "      border-left-color: var(--fill-color);\n",
              "    }\n",
              "    20% {\n",
              "      border-color: transparent;\n",
              "      border-left-color: var(--fill-color);\n",
              "      border-top-color: var(--fill-color);\n",
              "    }\n",
              "    30% {\n",
              "      border-color: transparent;\n",
              "      border-left-color: var(--fill-color);\n",
              "      border-top-color: var(--fill-color);\n",
              "      border-right-color: var(--fill-color);\n",
              "    }\n",
              "    40% {\n",
              "      border-color: transparent;\n",
              "      border-right-color: var(--fill-color);\n",
              "      border-top-color: var(--fill-color);\n",
              "    }\n",
              "    60% {\n",
              "      border-color: transparent;\n",
              "      border-right-color: var(--fill-color);\n",
              "    }\n",
              "    80% {\n",
              "      border-color: transparent;\n",
              "      border-right-color: var(--fill-color);\n",
              "      border-bottom-color: var(--fill-color);\n",
              "    }\n",
              "    90% {\n",
              "      border-color: transparent;\n",
              "      border-bottom-color: var(--fill-color);\n",
              "    }\n",
              "  }\n",
              "</style>\n",
              "\n",
              "  <script>\n",
              "    async function quickchart(key) {\n",
              "      const quickchartButtonEl =\n",
              "        document.querySelector('#' + key + ' button');\n",
              "      quickchartButtonEl.disabled = true;  // To prevent multiple clicks.\n",
              "      quickchartButtonEl.classList.add('colab-df-spinner');\n",
              "      try {\n",
              "        const charts = await google.colab.kernel.invokeFunction(\n",
              "            'suggestCharts', [key], {});\n",
              "      } catch (error) {\n",
              "        console.error('Error during call to suggestCharts:', error);\n",
              "      }\n",
              "      quickchartButtonEl.classList.remove('colab-df-spinner');\n",
              "      quickchartButtonEl.classList.add('colab-df-quickchart-complete');\n",
              "    }\n",
              "    (() => {\n",
              "      let quickchartButtonEl =\n",
              "        document.querySelector('#df-bdc5d85c-a79f-4d22-beb3-43e79ca08a02 button');\n",
              "      quickchartButtonEl.style.display =\n",
              "        google.colab.kernel.accessAllowed ? 'block' : 'none';\n",
              "    })();\n",
              "  </script>\n",
              "</div>\n",
              "\n",
              "    </div>\n",
              "  </div>\n"
            ],
            "application/vnd.google.colaboratory.intrinsic+json": {
              "type": "dataframe",
              "summary": "{\n  \"name\": \"train_data[['Text', 'cleaned_text']]\",\n  \"rows\": 40,\n  \"fields\": [\n    {\n      \"column\": \"Text\",\n      \"properties\": {\n        \"dtype\": \"string\",\n        \"num_unique_values\": 40,\n        \"samples\": [\n          \"\\u0627\\u0646\\u0627 \\u0627\\u0647\\u0644\\u0627\\u0648\\u064a\\u0647 \\u0641\\u0643\\u0631\\u0647 \\u0645\\u0634 \\u0645\\u062a\\u0639\\u0635\\u0628\\u0647 \\u0648\\u0645\\u0634 \\u0628\\u0643\\u0631\\u0647 \\u0627\\u0644\\u0632\\u0645\\u0627\\u0644\\u0643 \\u0628\\u062d\\u0628 \\u0627\\u0633\\u062a\\u0645\\u062a\\u0639 \\u0628\\u0644\\u0639\\u0628 \\u0627\\u0644\\u0643\\u0648\\u0631\\u0647\",\n          \"\\u0627\\u0646\\u0627 \\u0639\\u0627\\u0631\\u0641\\u0647 \\u0647\\u0644\\u0628\\u0647 \\u0647\\u0643\\u064a \\u0627\\u0644\\u062f\\u0639\\u0645 \\u0627\\u0644\\u0645\\u0639\\u0646\\u0648\\u064a \\u0648\\u0627\\u0644\\u0647 \\u0648\\u0646\\u0631\\u062c\\u0639 \\u0648\\u0646\\u0642\\u0648\\u0644 \\u0648\\u0627\\u0644\\u0647 \\u0630\\u0648\\u0642\\u0643\",\n          \"\\u0627\\u062d\\u0646\\u0627 \\u0648\\u0635\\u0644\\u0646\\u0627 \\u0644\\u0648\\u0636\\u0639 \\u0639\\u0627\\u064a\\u0632 \\u062e\\u062f\\u0645\\u0647 \\u0627\\u062f\\u0641\\u0639 \\u062a\\u0645\\u0646\\u0647\\u0627 \\u0645\\u0634 \\u0645\\u0639\\u0627\\u0643 \\u0627\\u0628\\u0642\\u064a \\u0635\\u0631\\u0641 \\u0627\\u0645\\u0627 \\u0642\\u0635\\u0647 \\u0627\\u0644\\u062f\\u0639\\u0645 \\u0627\\u0644\\u064a \\u064a\\u0646\\u0637\\u0628\\u0642 \\u0645\\u062d\\u062f\\u0634 \\u0628\\u064a\\u0627\\u062e\\u062f\\u0647 \\u0642\\u0648\\u064a \\u0628\\u0646\\u062c\\u0631\\u062d \\u0642\\u0648\\u064a\"\n        ],\n        \"semantic_type\": \"\",\n        \"description\": \"\"\n      }\n    },\n    {\n      \"column\": \"cleaned_text\",\n      \"properties\": {\n        \"dtype\": \"string\",\n        \"num_unique_values\": 40,\n        \"samples\": [\n          \"\\u0627\\u0646\\u0627 \\u0627\\u0647\\u0644\\u0627\\u0648\\u064a\\u0647 \\u0641\\u0643\\u0631\\u0647 \\u0645\\u0634 \\u0645\\u062a\\u0639\\u0635\\u0628\\u0647 \\u0648\\u0645\\u0634 \\u0628\\u0643\\u0631\\u0647 \\u0627\\u0644\\u0632\\u0645\\u0627\\u0644\\u0643 \\u0628\\u062d\\u0628 \\u0627\\u0633\\u062a\\u0645\\u062a\\u0639 \\u0628\\u0644\\u0639\\u0628 \\u0627\\u0644\\u0643\\u0648\\u0631\\u0647\",\n          \"\\u0627\\u0646\\u0627 \\u0639\\u0627\\u0631\\u0641\\u0647 \\u0647\\u0644\\u0628\\u0647 \\u0647\\u0643\\u064a \\u0627\\u0644\\u062f\\u0639\\u0645 \\u0627\\u0644\\u0645\\u0639\\u0646\\u0648\\u064a \\u0648\\u0627\\u0644\\u0647 \\u0648\\u0646\\u0631\\u062c\\u0639 \\u0648\\u0646\\u0642\\u0648\\u0644 \\u0648\\u0627\\u0644\\u0647 \\u0630\\u0648\\u0642\\u0643\",\n          \"\\u0627\\u062d\\u0646\\u0627 \\u0648\\u0635\\u0644\\u0646\\u0627 \\u0644\\u0648\\u0636\\u0639 \\u0639\\u0627\\u064a\\u0632 \\u062e\\u062f\\u0645\\u0647 \\u0627\\u062f\\u0641\\u0639 \\u062a\\u0645\\u0646\\u0647\\u0627 \\u0645\\u0634 \\u0645\\u0639\\u0627\\u0643 \\u0627\\u0628\\u0642\\u064a \\u0635\\u0631\\u0641 \\u0627\\u0645\\u0627 \\u0642\\u0635\\u0647 \\u0627\\u0644\\u062f\\u0639\\u0645 \\u0627\\u0644\\u064a \\u064a\\u0646\\u0637\\u0628\\u0642 \\u0645\\u062d\\u062f\\u0634 \\u0628\\u064a\\u0627\\u062e\\u062f\\u0647 \\u0642\\u0648\\u064a \\u0628\\u0646\\u062c\\u0631\\u062d \\u0642\\u0648\\u064a\"\n        ],\n        \"semantic_type\": \"\",\n        \"description\": \"\"\n      }\n    }\n  ]\n}"
            }
          },
          "metadata": {},
          "execution_count": 16
        }
      ]
    },
    {
      "cell_type": "markdown",
      "source": [
        "**classes are not balenced so we will use Macro F1 score for evaluation**"
      ],
      "metadata": {
        "id": "KWTwOvPofEiz"
      }
    },
    {
      "cell_type": "markdown",
      "source": [
        "# Data splitting"
      ],
      "metadata": {
        "id": "7-jxFLHXFXTx"
      }
    },
    {
      "cell_type": "code",
      "source": [
        "X = train_data['Text']\n",
        "y = train_data['Dialect']\n",
        "\n",
        "# Split the data\n",
        "X_train, X_val, y_train, y_val = train_test_split(X, y, test_size=0.2, random_state=99)"
      ],
      "metadata": {
        "id": "tf_TbXWZdyTk"
      },
      "execution_count": 25,
      "outputs": []
    },
    {
      "cell_type": "code",
      "source": [
        "print(X_train.shape)\n",
        "print(X_val.shape)\n",
        "print(y_train.shape)\n",
        "print(y_val.shape)"
      ],
      "metadata": {
        "colab": {
          "base_uri": "https://localhost:8080/"
        },
        "id": "Khpcr-5vd8RF",
        "outputId": "aadf8105-9f29-4da8-bda0-190fec17ee0c"
      },
      "execution_count": 26,
      "outputs": [
        {
          "output_type": "stream",
          "name": "stdout",
          "text": [
            "(94410,)\n",
            "(23603,)\n",
            "(94410,)\n",
            "(23603,)\n"
          ]
        }
      ]
    },
    {
      "cell_type": "markdown",
      "source": [
        "# Embedding"
      ],
      "metadata": {
        "id": "OsvOt3TIHy3x"
      }
    },
    {
      "cell_type": "code",
      "source": [
        "word2vec_model = api.load('word2vec-google-news-300')"
      ],
      "metadata": {
        "collapsed": true,
        "id": "EzhL5G4dH1uT"
      },
      "execution_count": 27,
      "outputs": []
    },
    {
      "cell_type": "code",
      "source": [
        "def get_average_vector(sentence, model, num_features):\n",
        "    words = sentence.lower().split()\n",
        "    word_vectors = [model[word] for word in words if word in model]\n",
        "    if word_vectors:\n",
        "        return np.mean(word_vectors, axis=0)\n",
        "    else:\n",
        "        return np.zeros(num_features)"
      ],
      "metadata": {
        "id": "H7PrbfV2NKTI"
      },
      "execution_count": 28,
      "outputs": []
    },
    {
      "cell_type": "code",
      "source": [
        "num_features = word2vec_model.vector_size\n"
      ],
      "metadata": {
        "id": "nTeklz6wNKVj"
      },
      "execution_count": 29,
      "outputs": []
    },
    {
      "cell_type": "code",
      "source": [
        "X_train_vectors = np.array([get_average_vector(text, word2vec_model, num_features) for text in X_train])\n",
        "X_test_vectors = np.array([get_average_vector(text, word2vec_model, num_features) for text in X_val])\n"
      ],
      "metadata": {
        "id": "L4rOMOTwNKZB"
      },
      "execution_count": 30,
      "outputs": []
    },
    {
      "cell_type": "code",
      "source": [
        "label_encoder = LabelEncoder()\n",
        "y_train_encoded = label_encoder.fit_transform(y_train)\n",
        "y_test_encoded = label_encoder.transform(y_val)"
      ],
      "metadata": {
        "id": "IcnAFROhOapK"
      },
      "execution_count": 31,
      "outputs": []
    },
    {
      "cell_type": "markdown",
      "source": [
        "# xgb  Model Training"
      ],
      "metadata": {
        "id": "D8nCVAdvcpKj"
      }
    },
    {
      "cell_type": "code",
      "source": [
        "xgb_model = xgb.XGBClassifier(objective='binary:logistic', eval_metric='logloss')\n",
        "xgb_model.fit(X_train_vectors, y_train_encoded)\n"
      ],
      "metadata": {
        "colab": {
          "base_uri": "https://localhost:8080/",
          "height": 248
        },
        "id": "zyBCsc7liQei",
        "outputId": "f0defc68-2ed9-4787-abf0-67d5cf58969c"
      },
      "execution_count": 77,
      "outputs": [
        {
          "output_type": "execute_result",
          "data": {
            "text/plain": [
              "XGBClassifier(base_score=None, booster=None, callbacks=None,\n",
              "              colsample_bylevel=None, colsample_bynode=None,\n",
              "              colsample_bytree=None, device=None, early_stopping_rounds=None,\n",
              "              enable_categorical=False, eval_metric='logloss',\n",
              "              feature_types=None, gamma=None, grow_policy=None,\n",
              "              importance_type=None, interaction_constraints=None,\n",
              "              learning_rate=None, max_bin=None, max_cat_threshold=None,\n",
              "              max_cat_to_onehot=None, max_delta_step=None, max_depth=None,\n",
              "              max_leaves=None, min_child_weight=None, missing=nan,\n",
              "              monotone_constraints=None, multi_strategy=None, n_estimators=None,\n",
              "              n_jobs=None, num_parallel_tree=None, objective='multi:softprob', ...)"
            ],
            "text/html": [
              "<style>#sk-container-id-3 {color: black;background-color: white;}#sk-container-id-3 pre{padding: 0;}#sk-container-id-3 div.sk-toggleable {background-color: white;}#sk-container-id-3 label.sk-toggleable__label {cursor: pointer;display: block;width: 100%;margin-bottom: 0;padding: 0.3em;box-sizing: border-box;text-align: center;}#sk-container-id-3 label.sk-toggleable__label-arrow:before {content: \"▸\";float: left;margin-right: 0.25em;color: #696969;}#sk-container-id-3 label.sk-toggleable__label-arrow:hover:before {color: black;}#sk-container-id-3 div.sk-estimator:hover label.sk-toggleable__label-arrow:before {color: black;}#sk-container-id-3 div.sk-toggleable__content {max-height: 0;max-width: 0;overflow: hidden;text-align: left;background-color: #f0f8ff;}#sk-container-id-3 div.sk-toggleable__content pre {margin: 0.2em;color: black;border-radius: 0.25em;background-color: #f0f8ff;}#sk-container-id-3 input.sk-toggleable__control:checked~div.sk-toggleable__content {max-height: 200px;max-width: 100%;overflow: auto;}#sk-container-id-3 input.sk-toggleable__control:checked~label.sk-toggleable__label-arrow:before {content: \"▾\";}#sk-container-id-3 div.sk-estimator input.sk-toggleable__control:checked~label.sk-toggleable__label {background-color: #d4ebff;}#sk-container-id-3 div.sk-label input.sk-toggleable__control:checked~label.sk-toggleable__label {background-color: #d4ebff;}#sk-container-id-3 input.sk-hidden--visually {border: 0;clip: rect(1px 1px 1px 1px);clip: rect(1px, 1px, 1px, 1px);height: 1px;margin: -1px;overflow: hidden;padding: 0;position: absolute;width: 1px;}#sk-container-id-3 div.sk-estimator {font-family: monospace;background-color: #f0f8ff;border: 1px dotted black;border-radius: 0.25em;box-sizing: border-box;margin-bottom: 0.5em;}#sk-container-id-3 div.sk-estimator:hover {background-color: #d4ebff;}#sk-container-id-3 div.sk-parallel-item::after {content: \"\";width: 100%;border-bottom: 1px solid gray;flex-grow: 1;}#sk-container-id-3 div.sk-label:hover label.sk-toggleable__label {background-color: #d4ebff;}#sk-container-id-3 div.sk-serial::before {content: \"\";position: absolute;border-left: 1px solid gray;box-sizing: border-box;top: 0;bottom: 0;left: 50%;z-index: 0;}#sk-container-id-3 div.sk-serial {display: flex;flex-direction: column;align-items: center;background-color: white;padding-right: 0.2em;padding-left: 0.2em;position: relative;}#sk-container-id-3 div.sk-item {position: relative;z-index: 1;}#sk-container-id-3 div.sk-parallel {display: flex;align-items: stretch;justify-content: center;background-color: white;position: relative;}#sk-container-id-3 div.sk-item::before, #sk-container-id-3 div.sk-parallel-item::before {content: \"\";position: absolute;border-left: 1px solid gray;box-sizing: border-box;top: 0;bottom: 0;left: 50%;z-index: -1;}#sk-container-id-3 div.sk-parallel-item {display: flex;flex-direction: column;z-index: 1;position: relative;background-color: white;}#sk-container-id-3 div.sk-parallel-item:first-child::after {align-self: flex-end;width: 50%;}#sk-container-id-3 div.sk-parallel-item:last-child::after {align-self: flex-start;width: 50%;}#sk-container-id-3 div.sk-parallel-item:only-child::after {width: 0;}#sk-container-id-3 div.sk-dashed-wrapped {border: 1px dashed gray;margin: 0 0.4em 0.5em 0.4em;box-sizing: border-box;padding-bottom: 0.4em;background-color: white;}#sk-container-id-3 div.sk-label label {font-family: monospace;font-weight: bold;display: inline-block;line-height: 1.2em;}#sk-container-id-3 div.sk-label-container {text-align: center;}#sk-container-id-3 div.sk-container {/* jupyter's `normalize.less` sets `[hidden] { display: none; }` but bootstrap.min.css set `[hidden] { display: none !important; }` so we also need the `!important` here to be able to override the default hidden behavior on the sphinx rendered scikit-learn.org. See: https://github.com/scikit-learn/scikit-learn/issues/21755 */display: inline-block !important;position: relative;}#sk-container-id-3 div.sk-text-repr-fallback {display: none;}</style><div id=\"sk-container-id-3\" class=\"sk-top-container\"><div class=\"sk-text-repr-fallback\"><pre>XGBClassifier(base_score=None, booster=None, callbacks=None,\n",
              "              colsample_bylevel=None, colsample_bynode=None,\n",
              "              colsample_bytree=None, device=None, early_stopping_rounds=None,\n",
              "              enable_categorical=False, eval_metric=&#x27;logloss&#x27;,\n",
              "              feature_types=None, gamma=None, grow_policy=None,\n",
              "              importance_type=None, interaction_constraints=None,\n",
              "              learning_rate=None, max_bin=None, max_cat_threshold=None,\n",
              "              max_cat_to_onehot=None, max_delta_step=None, max_depth=None,\n",
              "              max_leaves=None, min_child_weight=None, missing=nan,\n",
              "              monotone_constraints=None, multi_strategy=None, n_estimators=None,\n",
              "              n_jobs=None, num_parallel_tree=None, objective=&#x27;multi:softprob&#x27;, ...)</pre><b>In a Jupyter environment, please rerun this cell to show the HTML representation or trust the notebook. <br />On GitHub, the HTML representation is unable to render, please try loading this page with nbviewer.org.</b></div><div class=\"sk-container\" hidden><div class=\"sk-item\"><div class=\"sk-estimator sk-toggleable\"><input class=\"sk-toggleable__control sk-hidden--visually\" id=\"sk-estimator-id-5\" type=\"checkbox\" checked><label for=\"sk-estimator-id-5\" class=\"sk-toggleable__label sk-toggleable__label-arrow\">XGBClassifier</label><div class=\"sk-toggleable__content\"><pre>XGBClassifier(base_score=None, booster=None, callbacks=None,\n",
              "              colsample_bylevel=None, colsample_bynode=None,\n",
              "              colsample_bytree=None, device=None, early_stopping_rounds=None,\n",
              "              enable_categorical=False, eval_metric=&#x27;logloss&#x27;,\n",
              "              feature_types=None, gamma=None, grow_policy=None,\n",
              "              importance_type=None, interaction_constraints=None,\n",
              "              learning_rate=None, max_bin=None, max_cat_threshold=None,\n",
              "              max_cat_to_onehot=None, max_delta_step=None, max_depth=None,\n",
              "              max_leaves=None, min_child_weight=None, missing=nan,\n",
              "              monotone_constraints=None, multi_strategy=None, n_estimators=None,\n",
              "              n_jobs=None, num_parallel_tree=None, objective=&#x27;multi:softprob&#x27;, ...)</pre></div></div></div></div></div>"
            ]
          },
          "metadata": {},
          "execution_count": 77
        }
      ]
    },
    {
      "cell_type": "code",
      "source": [
        "# Evaluate the initial model\n",
        "y_pred = xgb_model.predict(X_test_vectors)\n",
        "accuracy = accuracy_score(y_test_encoded, y_pred)\n",
        "print(\"Initial Accuracy:\", accuracy)"
      ],
      "metadata": {
        "colab": {
          "base_uri": "https://localhost:8080/"
        },
        "id": "oMXifXrRPXZC",
        "outputId": "daf071f5-8280-41cd-8e91-6e6104acccef"
      },
      "execution_count": 78,
      "outputs": [
        {
          "output_type": "stream",
          "name": "stdout",
          "text": [
            "Initial Accuracy: 0.3901622675083676\n"
          ]
        }
      ]
    },
    {
      "cell_type": "code",
      "source": [
        "f1 = f1_score(y_test_encoded, y_pred , average='macro')"
      ],
      "metadata": {
        "id": "1ecveugoQYOm"
      },
      "execution_count": 79,
      "outputs": []
    },
    {
      "cell_type": "code",
      "source": [
        "print(\"Initial F1 Score:\", f1)"
      ],
      "metadata": {
        "colab": {
          "base_uri": "https://localhost:8080/"
        },
        "id": "Trnxe2qBQaeu",
        "outputId": "0e14895c-9432-4895-d5d9-d5b97c7ad922"
      },
      "execution_count": 80,
      "outputs": [
        {
          "output_type": "stream",
          "name": "stdout",
          "text": [
            "Initial F1 Score: 0.11226722745420743\n"
          ]
        }
      ]
    },
    {
      "cell_type": "markdown",
      "source": [
        "**fine tuning**"
      ],
      "metadata": {
        "id": "ueAgaFu3PjIz"
      }
    },
    {
      "cell_type": "code",
      "source": [
        "param_grid = {\n",
        "    'max_depth': [2, 4, 6],\n",
        "    'n_estimators': [25, 50, 100],\n",
        "    'learning_rate': [0.01, 0.1, 0.2]\n",
        "}\n",
        "\n",
        "grid_search = GridSearchCV(estimator=xgb_model, param_grid=param_grid, cv=3, scoring='f1_macro', verbose=1)\n",
        "grid_search.fit(X_train_vectors, y_train_encoded)"
      ],
      "metadata": {
        "colab": {
          "base_uri": "https://localhost:8080/",
          "height": 135
        },
        "id": "tAbe48XOPnxJ",
        "outputId": "008b0547-8813-42cf-b3e7-628b4609e4ed"
      },
      "execution_count": 87,
      "outputs": [
        {
          "output_type": "stream",
          "name": "stdout",
          "text": [
            "Fitting 3 folds for each of 27 candidates, totalling 81 fits\n"
          ]
        },
        {
          "output_type": "execute_result",
          "data": {
            "text/plain": [
              "GridSearchCV(cv=3,\n",
              "             estimator=XGBClassifier(base_score=None, booster=None,\n",
              "                                     callbacks=None, colsample_bylevel=None,\n",
              "                                     colsample_bynode=None,\n",
              "                                     colsample_bytree=None, device=None,\n",
              "                                     early_stopping_rounds=None,\n",
              "                                     enable_categorical=False,\n",
              "                                     eval_metric='logloss', feature_types=None,\n",
              "                                     gamma=None, grow_policy=None,\n",
              "                                     importance_type=None,\n",
              "                                     interaction_constraints=None,\n",
              "                                     learning_rate=...\n",
              "                                     max_cat_to_onehot=None,\n",
              "                                     max_delta_step=None, max_depth=None,\n",
              "                                     max_leaves=None, min_child_weight=None,\n",
              "                                     missing=nan, monotone_constraints=None,\n",
              "                                     multi_strategy=None, n_estimators=None,\n",
              "                                     n_jobs=None, num_parallel_tree=None,\n",
              "                                     objective='multi:softprob', ...),\n",
              "             param_grid={'learning_rate': [0.01, 0.1, 0.2],\n",
              "                         'max_depth': [2, 4, 6],\n",
              "                         'n_estimators': [25, 50, 100]},\n",
              "             scoring='f1_macro', verbose=1)"
            ],
            "text/html": [
              "<style>#sk-container-id-5 {color: black;background-color: white;}#sk-container-id-5 pre{padding: 0;}#sk-container-id-5 div.sk-toggleable {background-color: white;}#sk-container-id-5 label.sk-toggleable__label {cursor: pointer;display: block;width: 100%;margin-bottom: 0;padding: 0.3em;box-sizing: border-box;text-align: center;}#sk-container-id-5 label.sk-toggleable__label-arrow:before {content: \"▸\";float: left;margin-right: 0.25em;color: #696969;}#sk-container-id-5 label.sk-toggleable__label-arrow:hover:before {color: black;}#sk-container-id-5 div.sk-estimator:hover label.sk-toggleable__label-arrow:before {color: black;}#sk-container-id-5 div.sk-toggleable__content {max-height: 0;max-width: 0;overflow: hidden;text-align: left;background-color: #f0f8ff;}#sk-container-id-5 div.sk-toggleable__content pre {margin: 0.2em;color: black;border-radius: 0.25em;background-color: #f0f8ff;}#sk-container-id-5 input.sk-toggleable__control:checked~div.sk-toggleable__content {max-height: 200px;max-width: 100%;overflow: auto;}#sk-container-id-5 input.sk-toggleable__control:checked~label.sk-toggleable__label-arrow:before {content: \"▾\";}#sk-container-id-5 div.sk-estimator input.sk-toggleable__control:checked~label.sk-toggleable__label {background-color: #d4ebff;}#sk-container-id-5 div.sk-label input.sk-toggleable__control:checked~label.sk-toggleable__label {background-color: #d4ebff;}#sk-container-id-5 input.sk-hidden--visually {border: 0;clip: rect(1px 1px 1px 1px);clip: rect(1px, 1px, 1px, 1px);height: 1px;margin: -1px;overflow: hidden;padding: 0;position: absolute;width: 1px;}#sk-container-id-5 div.sk-estimator {font-family: monospace;background-color: #f0f8ff;border: 1px dotted black;border-radius: 0.25em;box-sizing: border-box;margin-bottom: 0.5em;}#sk-container-id-5 div.sk-estimator:hover {background-color: #d4ebff;}#sk-container-id-5 div.sk-parallel-item::after {content: \"\";width: 100%;border-bottom: 1px solid gray;flex-grow: 1;}#sk-container-id-5 div.sk-label:hover label.sk-toggleable__label {background-color: #d4ebff;}#sk-container-id-5 div.sk-serial::before {content: \"\";position: absolute;border-left: 1px solid gray;box-sizing: border-box;top: 0;bottom: 0;left: 50%;z-index: 0;}#sk-container-id-5 div.sk-serial {display: flex;flex-direction: column;align-items: center;background-color: white;padding-right: 0.2em;padding-left: 0.2em;position: relative;}#sk-container-id-5 div.sk-item {position: relative;z-index: 1;}#sk-container-id-5 div.sk-parallel {display: flex;align-items: stretch;justify-content: center;background-color: white;position: relative;}#sk-container-id-5 div.sk-item::before, #sk-container-id-5 div.sk-parallel-item::before {content: \"\";position: absolute;border-left: 1px solid gray;box-sizing: border-box;top: 0;bottom: 0;left: 50%;z-index: -1;}#sk-container-id-5 div.sk-parallel-item {display: flex;flex-direction: column;z-index: 1;position: relative;background-color: white;}#sk-container-id-5 div.sk-parallel-item:first-child::after {align-self: flex-end;width: 50%;}#sk-container-id-5 div.sk-parallel-item:last-child::after {align-self: flex-start;width: 50%;}#sk-container-id-5 div.sk-parallel-item:only-child::after {width: 0;}#sk-container-id-5 div.sk-dashed-wrapped {border: 1px dashed gray;margin: 0 0.4em 0.5em 0.4em;box-sizing: border-box;padding-bottom: 0.4em;background-color: white;}#sk-container-id-5 div.sk-label label {font-family: monospace;font-weight: bold;display: inline-block;line-height: 1.2em;}#sk-container-id-5 div.sk-label-container {text-align: center;}#sk-container-id-5 div.sk-container {/* jupyter's `normalize.less` sets `[hidden] { display: none; }` but bootstrap.min.css set `[hidden] { display: none !important; }` so we also need the `!important` here to be able to override the default hidden behavior on the sphinx rendered scikit-learn.org. See: https://github.com/scikit-learn/scikit-learn/issues/21755 */display: inline-block !important;position: relative;}#sk-container-id-5 div.sk-text-repr-fallback {display: none;}</style><div id=\"sk-container-id-5\" class=\"sk-top-container\"><div class=\"sk-text-repr-fallback\"><pre>GridSearchCV(cv=3,\n",
              "             estimator=XGBClassifier(base_score=None, booster=None,\n",
              "                                     callbacks=None, colsample_bylevel=None,\n",
              "                                     colsample_bynode=None,\n",
              "                                     colsample_bytree=None, device=None,\n",
              "                                     early_stopping_rounds=None,\n",
              "                                     enable_categorical=False,\n",
              "                                     eval_metric=&#x27;logloss&#x27;, feature_types=None,\n",
              "                                     gamma=None, grow_policy=None,\n",
              "                                     importance_type=None,\n",
              "                                     interaction_constraints=None,\n",
              "                                     learning_rate=...\n",
              "                                     max_cat_to_onehot=None,\n",
              "                                     max_delta_step=None, max_depth=None,\n",
              "                                     max_leaves=None, min_child_weight=None,\n",
              "                                     missing=nan, monotone_constraints=None,\n",
              "                                     multi_strategy=None, n_estimators=None,\n",
              "                                     n_jobs=None, num_parallel_tree=None,\n",
              "                                     objective=&#x27;multi:softprob&#x27;, ...),\n",
              "             param_grid={&#x27;learning_rate&#x27;: [0.01, 0.1, 0.2],\n",
              "                         &#x27;max_depth&#x27;: [2, 4, 6],\n",
              "                         &#x27;n_estimators&#x27;: [25, 50, 100]},\n",
              "             scoring=&#x27;f1_macro&#x27;, verbose=1)</pre><b>In a Jupyter environment, please rerun this cell to show the HTML representation or trust the notebook. <br />On GitHub, the HTML representation is unable to render, please try loading this page with nbviewer.org.</b></div><div class=\"sk-container\" hidden><div class=\"sk-item sk-dashed-wrapped\"><div class=\"sk-label-container\"><div class=\"sk-label sk-toggleable\"><input class=\"sk-toggleable__control sk-hidden--visually\" id=\"sk-estimator-id-9\" type=\"checkbox\" ><label for=\"sk-estimator-id-9\" class=\"sk-toggleable__label sk-toggleable__label-arrow\">GridSearchCV</label><div class=\"sk-toggleable__content\"><pre>GridSearchCV(cv=3,\n",
              "             estimator=XGBClassifier(base_score=None, booster=None,\n",
              "                                     callbacks=None, colsample_bylevel=None,\n",
              "                                     colsample_bynode=None,\n",
              "                                     colsample_bytree=None, device=None,\n",
              "                                     early_stopping_rounds=None,\n",
              "                                     enable_categorical=False,\n",
              "                                     eval_metric=&#x27;logloss&#x27;, feature_types=None,\n",
              "                                     gamma=None, grow_policy=None,\n",
              "                                     importance_type=None,\n",
              "                                     interaction_constraints=None,\n",
              "                                     learning_rate=...\n",
              "                                     max_cat_to_onehot=None,\n",
              "                                     max_delta_step=None, max_depth=None,\n",
              "                                     max_leaves=None, min_child_weight=None,\n",
              "                                     missing=nan, monotone_constraints=None,\n",
              "                                     multi_strategy=None, n_estimators=None,\n",
              "                                     n_jobs=None, num_parallel_tree=None,\n",
              "                                     objective=&#x27;multi:softprob&#x27;, ...),\n",
              "             param_grid={&#x27;learning_rate&#x27;: [0.01, 0.1, 0.2],\n",
              "                         &#x27;max_depth&#x27;: [2, 4, 6],\n",
              "                         &#x27;n_estimators&#x27;: [25, 50, 100]},\n",
              "             scoring=&#x27;f1_macro&#x27;, verbose=1)</pre></div></div></div><div class=\"sk-parallel\"><div class=\"sk-parallel-item\"><div class=\"sk-item\"><div class=\"sk-label-container\"><div class=\"sk-label sk-toggleable\"><input class=\"sk-toggleable__control sk-hidden--visually\" id=\"sk-estimator-id-10\" type=\"checkbox\" ><label for=\"sk-estimator-id-10\" class=\"sk-toggleable__label sk-toggleable__label-arrow\">estimator: XGBClassifier</label><div class=\"sk-toggleable__content\"><pre>XGBClassifier(base_score=None, booster=None, callbacks=None,\n",
              "              colsample_bylevel=None, colsample_bynode=None,\n",
              "              colsample_bytree=None, device=None, early_stopping_rounds=None,\n",
              "              enable_categorical=False, eval_metric=&#x27;logloss&#x27;,\n",
              "              feature_types=None, gamma=None, grow_policy=None,\n",
              "              importance_type=None, interaction_constraints=None,\n",
              "              learning_rate=None, max_bin=None, max_cat_threshold=None,\n",
              "              max_cat_to_onehot=None, max_delta_step=None, max_depth=None,\n",
              "              max_leaves=None, min_child_weight=None, missing=nan,\n",
              "              monotone_constraints=None, multi_strategy=None, n_estimators=None,\n",
              "              n_jobs=None, num_parallel_tree=None, objective=&#x27;multi:softprob&#x27;, ...)</pre></div></div></div><div class=\"sk-serial\"><div class=\"sk-item\"><div class=\"sk-estimator sk-toggleable\"><input class=\"sk-toggleable__control sk-hidden--visually\" id=\"sk-estimator-id-11\" type=\"checkbox\" ><label for=\"sk-estimator-id-11\" class=\"sk-toggleable__label sk-toggleable__label-arrow\">XGBClassifier</label><div class=\"sk-toggleable__content\"><pre>XGBClassifier(base_score=None, booster=None, callbacks=None,\n",
              "              colsample_bylevel=None, colsample_bynode=None,\n",
              "              colsample_bytree=None, device=None, early_stopping_rounds=None,\n",
              "              enable_categorical=False, eval_metric=&#x27;logloss&#x27;,\n",
              "              feature_types=None, gamma=None, grow_policy=None,\n",
              "              importance_type=None, interaction_constraints=None,\n",
              "              learning_rate=None, max_bin=None, max_cat_threshold=None,\n",
              "              max_cat_to_onehot=None, max_delta_step=None, max_depth=None,\n",
              "              max_leaves=None, min_child_weight=None, missing=nan,\n",
              "              monotone_constraints=None, multi_strategy=None, n_estimators=None,\n",
              "              n_jobs=None, num_parallel_tree=None, objective=&#x27;multi:softprob&#x27;, ...)</pre></div></div></div></div></div></div></div></div></div></div>"
            ]
          },
          "metadata": {},
          "execution_count": 87
        }
      ]
    },
    {
      "cell_type": "code",
      "source": [
        "print(\"Best Parameters:\", grid_search.best_params_)\n"
      ],
      "metadata": {
        "colab": {
          "base_uri": "https://localhost:8080/"
        },
        "id": "7pb0aABnPn_f",
        "outputId": "2d819511-0d80-48ad-9084-45308755a80a"
      },
      "execution_count": 88,
      "outputs": [
        {
          "output_type": "stream",
          "name": "stdout",
          "text": [
            "Best Parameters: {'learning_rate': 0.01, 'max_depth': 2, 'n_estimators': 50}\n"
          ]
        }
      ]
    },
    {
      "cell_type": "code",
      "source": [
        "best_xgb_model = grid_search.best_estimator_"
      ],
      "metadata": {
        "id": "sAvOIMKUXn7W"
      },
      "execution_count": 89,
      "outputs": []
    },
    {
      "cell_type": "code",
      "source": [
        "# Evaluate the fine-tuned model\n",
        "y_pred_tuned = best_xgb_model.predict(X_test_vectors)\n",
        "accuracy_tuned = accuracy_score(y_test_encoded, y_pred_tuned)\n",
        "f1_tuned = f1_score(y_test_encoded, y_pred_tuned, average='macro')"
      ],
      "metadata": {
        "id": "pTbBsUw7Xq2w"
      },
      "execution_count": 90,
      "outputs": []
    },
    {
      "cell_type": "code",
      "source": [
        "print(\"Tuned Accuracy:\", accuracy_tuned)\n",
        "print(\"Tuned F1 Score:\", f1_tuned)"
      ],
      "metadata": {
        "colab": {
          "base_uri": "https://localhost:8080/"
        },
        "id": "x0JbOzQDXrDK",
        "outputId": "f74e895d-f0c1-48c1-b83d-b46dbc2a04f8"
      },
      "execution_count": 91,
      "outputs": [
        {
          "output_type": "stream",
          "name": "stdout",
          "text": [
            "Tuned Accuracy: 0.3901622675083676\n",
            "Tuned F1 Score: 0.11226722745420743\n"
          ]
        }
      ]
    },
    {
      "cell_type": "code",
      "source": [
        "with open('xgb2.pkl', 'wb') as f:\n",
        "    pickle.dump(best_xgb_model, f)\n"
      ],
      "metadata": {
        "id": "II8uevhyjpml"
      },
      "execution_count": 92,
      "outputs": []
    },
    {
      "cell_type": "markdown",
      "source": [
        "#tfdif with multinb\n",
        "\n"
      ],
      "metadata": {
        "id": "fEFMKpTqbsx2"
      }
    },
    {
      "cell_type": "code",
      "source": [
        "tfidf_vec = TfidfVectorizer()\n",
        "X_train_tfidf = tfidf_vec.fit_transform(X_train)\n",
        "\n",
        "# Transform the test data\n",
        "X_test_tfidf = tfidf_vec.transform(X_val)"
      ],
      "metadata": {
        "id": "MHh_iruRbsE6"
      },
      "execution_count": 93,
      "outputs": []
    },
    {
      "cell_type": "code",
      "source": [
        "clf_nb = MultinomialNB()\n",
        "clf_nb.fit(X_train_tfidf, y_train_encoded)\n",
        "nb_y_predict = clf_nb.predict(X_test_tfidf)"
      ],
      "metadata": {
        "id": "iTUJ-eIOdPtI"
      },
      "execution_count": 94,
      "outputs": []
    },
    {
      "cell_type": "code",
      "source": [
        "print(classification_report(y_test_encoded, nb_y_predict))\n"
      ],
      "metadata": {
        "colab": {
          "base_uri": "https://localhost:8080/"
        },
        "id": "s4XJAZpKde6J",
        "outputId": "7a2a928c-25cb-4fea-f16f-2ff820a954ef"
      },
      "execution_count": 95,
      "outputs": [
        {
          "output_type": "stream",
          "name": "stdout",
          "text": [
            "              precision    recall  f1-score   support\n",
            "\n",
            "           0       0.61      0.99      0.76      9209\n",
            "           1       0.95      0.68      0.79      4439\n",
            "           2       0.83      0.67      0.74      5828\n",
            "           3       0.99      0.28      0.44      1883\n",
            "           4       0.99      0.12      0.22      2244\n",
            "\n",
            "    accuracy                           0.72     23603\n",
            "   macro avg       0.88      0.55      0.59     23603\n",
            "weighted avg       0.80      0.72      0.68     23603\n",
            "\n"
          ]
        }
      ]
    },
    {
      "cell_type": "code",
      "source": [
        "import pickle\n",
        "\n",
        "# Save the trained model to a pickle file\n",
        "with open('nb_model2.pkl', 'wb') as f:\n",
        "    pickle.dump(clf_nb, f)\n"
      ],
      "metadata": {
        "id": "8RWy5TeBjDFx"
      },
      "execution_count": 96,
      "outputs": []
    },
    {
      "cell_type": "code",
      "source": [],
      "metadata": {
        "id": "pMsdA1gujDPz"
      },
      "execution_count": null,
      "outputs": []
    }
  ]
}